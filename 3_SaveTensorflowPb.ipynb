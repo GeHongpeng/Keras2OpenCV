{
 "cells": [
  {
   "cell_type": "code",
   "execution_count": 1,
   "metadata": {
    "scrolled": true
   },
   "outputs": [
    {
     "name": "stdout",
     "output_type": "stream",
     "text": [
      "WARNING:tensorflow:From c:\\users\\takuya\\anaconda3\\envs\\tensorflow\\lib\\site-packages\\tensorflow\\python\\keras\\_impl\\keras\\backend.py:1557: calling reduce_mean (from tensorflow.python.ops.math_ops) with keep_dims is deprecated and will be removed in a future version.\n",
      "Instructions for updating:\n",
      "keep_dims is deprecated, use keepdims instead\n",
      "WARNING:tensorflow:From c:\\users\\takuya\\anaconda3\\envs\\tensorflow\\lib\\site-packages\\tensorflow\\python\\keras\\_impl\\keras\\backend.py:1422: calling reduce_max (from tensorflow.python.ops.math_ops) with keep_dims is deprecated and will be removed in a future version.\n",
      "Instructions for updating:\n",
      "keep_dims is deprecated, use keepdims instead\n"
     ]
    }
   ],
   "source": [
    "# LeNET5 Model\n",
    "from tensorflow.python.keras.models import load_model\n",
    "\n",
    "model = load_model('inference_model.h5')"
   ]
  },
  {
   "cell_type": "code",
   "execution_count": 2,
   "metadata": {},
   "outputs": [
    {
     "name": "stdout",
     "output_type": "stream",
     "text": [
      "INFO:tensorflow:Froze 8 variables.\n",
      "Converted 8 variables to const ops.\n"
     ]
    }
   ],
   "source": [
    "import tensorflow as tf\n",
    "from tensorflow.python.keras import backend as K\n",
    "from tensorflow import graph_util\n",
    "from tensorflow.python.tools import optimize_for_inference_lib\n",
    "\n",
    "sess = K.get_session()\n",
    "outname = \"output_node0\"\n",
    "tf.identity(model.outputs[0], name=outname)\n",
    "constant_graph = graph_util.convert_variables_to_constants(sess, sess.graph.as_graph_def(),[outname])\n",
    "tf.train.write_graph(constant_graph, \"./\", \"lenet.pb\", as_text=False)\n",
    "'''\n",
    "inputnames = []\n",
    "for node in constant_graph.node:\n",
    "    if(node.op == \"Placeholder\"):\n",
    "        inputnames.append(node.name)\n",
    "\n",
    "constant_graph = optimize_for_inference_lib.optimize_for_inference(constant_graph, inputnames, [outname], tf.float32.as_datatype_enum)\n",
    "tf.train.write_graph(constant_graph, \"./\", \"lenet2.pb\", as_text=False)\n",
    "'''"
   ]
  }
 ],
 "metadata": {
  "kernelspec": {
   "display_name": "Python 3",
   "language": "python",
   "name": "python3"
  },
  "language_info": {
   "codemirror_mode": {
    "name": "ipython",
    "version": 3
   },
   "file_extension": ".py",
   "mimetype": "text/x-python",
   "name": "python",
   "nbconvert_exporter": "python",
   "pygments_lexer": "ipython3",
   "version": "3.6.7"
  }
 },
 "nbformat": 4,
 "nbformat_minor": 2
}
